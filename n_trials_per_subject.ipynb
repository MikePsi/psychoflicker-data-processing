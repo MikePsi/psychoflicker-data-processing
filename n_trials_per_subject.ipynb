{
 "cells": [
  {
   "cell_type": "code",
   "execution_count": 1,
   "id": "3ad23c42",
   "metadata": {},
   "outputs": [],
   "source": [
    "import pandas as pd\n",
    "import numpy as np"
   ]
  },
  {
   "cell_type": "code",
   "execution_count": 2,
   "id": "0cc07c40",
   "metadata": {},
   "outputs": [],
   "source": [
    "path = r\"C:\\Users\\tosim\\Dropbox\\Progetto_PhD_IIT\\Analysis_new\\Data_analysis_2\\long_format_single_trial_2.xlsx\""
   ]
  },
  {
   "cell_type": "code",
   "execution_count": 3,
   "id": "fc324864",
   "metadata": {},
   "outputs": [],
   "source": [
    "df = pd.read_excel(path)"
   ]
  },
  {
   "cell_type": "code",
   "execution_count": 4,
   "id": "d279dba1",
   "metadata": {},
   "outputs": [
    {
     "data": {
      "text/html": [
       "<div>\n",
       "<style scoped>\n",
       "    .dataframe tbody tr th:only-of-type {\n",
       "        vertical-align: middle;\n",
       "    }\n",
       "\n",
       "    .dataframe tbody tr th {\n",
       "        vertical-align: top;\n",
       "    }\n",
       "\n",
       "    .dataframe thead th {\n",
       "        text-align: right;\n",
       "    }\n",
       "</style>\n",
       "<table border=\"1\" class=\"dataframe\">\n",
       "  <thead>\n",
       "    <tr style=\"text-align: right;\">\n",
       "      <th></th>\n",
       "      <th>Unnamed: 0</th>\n",
       "      <th>Subject</th>\n",
       "      <th>manipulation</th>\n",
       "      <th>Manipulation</th>\n",
       "      <th>Stimulation</th>\n",
       "      <th>Session</th>\n",
       "      <th>VisualF</th>\n",
       "      <th>Response</th>\n",
       "      <th>Collection</th>\n",
       "    </tr>\n",
       "  </thead>\n",
       "  <tbody>\n",
       "    <tr>\n",
       "      <th>0</th>\n",
       "      <td>0</td>\n",
       "      <td>S1</td>\n",
       "      <td>Bi</td>\n",
       "      <td>Control</td>\n",
       "      <td>Sham</td>\n",
       "      <td>Pre</td>\n",
       "      <td>Left</td>\n",
       "      <td>1</td>\n",
       "      <td>1</td>\n",
       "    </tr>\n",
       "    <tr>\n",
       "      <th>1</th>\n",
       "      <td>1</td>\n",
       "      <td>S1</td>\n",
       "      <td>Bi</td>\n",
       "      <td>Control</td>\n",
       "      <td>Sham</td>\n",
       "      <td>Pre</td>\n",
       "      <td>Left</td>\n",
       "      <td>1</td>\n",
       "      <td>1</td>\n",
       "    </tr>\n",
       "    <tr>\n",
       "      <th>2</th>\n",
       "      <td>2</td>\n",
       "      <td>S1</td>\n",
       "      <td>Bi</td>\n",
       "      <td>Control</td>\n",
       "      <td>Sham</td>\n",
       "      <td>Pre</td>\n",
       "      <td>Left</td>\n",
       "      <td>1</td>\n",
       "      <td>1</td>\n",
       "    </tr>\n",
       "    <tr>\n",
       "      <th>3</th>\n",
       "      <td>3</td>\n",
       "      <td>S1</td>\n",
       "      <td>Bi</td>\n",
       "      <td>Control</td>\n",
       "      <td>Sham</td>\n",
       "      <td>Pre</td>\n",
       "      <td>Left</td>\n",
       "      <td>1</td>\n",
       "      <td>1</td>\n",
       "    </tr>\n",
       "    <tr>\n",
       "      <th>4</th>\n",
       "      <td>4</td>\n",
       "      <td>S1</td>\n",
       "      <td>Bi</td>\n",
       "      <td>Control</td>\n",
       "      <td>Sham</td>\n",
       "      <td>Pre</td>\n",
       "      <td>Left</td>\n",
       "      <td>0</td>\n",
       "      <td>1</td>\n",
       "    </tr>\n",
       "    <tr>\n",
       "      <th>...</th>\n",
       "      <td>...</td>\n",
       "      <td>...</td>\n",
       "      <td>...</td>\n",
       "      <td>...</td>\n",
       "      <td>...</td>\n",
       "      <td>...</td>\n",
       "      <td>...</td>\n",
       "      <td>...</td>\n",
       "      <td>...</td>\n",
       "    </tr>\n",
       "    <tr>\n",
       "      <th>41811</th>\n",
       "      <td>106</td>\n",
       "      <td>S65</td>\n",
       "      <td>UL</td>\n",
       "      <td>Attended Visual Field</td>\n",
       "      <td>Active</td>\n",
       "      <td>Post_2</td>\n",
       "      <td>Left</td>\n",
       "      <td>1</td>\n",
       "      <td>2</td>\n",
       "    </tr>\n",
       "    <tr>\n",
       "      <th>41812</th>\n",
       "      <td>107</td>\n",
       "      <td>S65</td>\n",
       "      <td>UL</td>\n",
       "      <td>Attended Visual Field</td>\n",
       "      <td>Active</td>\n",
       "      <td>Post_2</td>\n",
       "      <td>Left</td>\n",
       "      <td>1</td>\n",
       "      <td>2</td>\n",
       "    </tr>\n",
       "    <tr>\n",
       "      <th>41813</th>\n",
       "      <td>108</td>\n",
       "      <td>S65</td>\n",
       "      <td>UL</td>\n",
       "      <td>Attended Visual Field</td>\n",
       "      <td>Active</td>\n",
       "      <td>Post_2</td>\n",
       "      <td>Left</td>\n",
       "      <td>1</td>\n",
       "      <td>2</td>\n",
       "    </tr>\n",
       "    <tr>\n",
       "      <th>41814</th>\n",
       "      <td>109</td>\n",
       "      <td>S65</td>\n",
       "      <td>UL</td>\n",
       "      <td>Ignored Visual Field</td>\n",
       "      <td>Active</td>\n",
       "      <td>Post_2</td>\n",
       "      <td>Right</td>\n",
       "      <td>1</td>\n",
       "      <td>2</td>\n",
       "    </tr>\n",
       "    <tr>\n",
       "      <th>41815</th>\n",
       "      <td>110</td>\n",
       "      <td>S65</td>\n",
       "      <td>UL</td>\n",
       "      <td>Ignored Visual Field</td>\n",
       "      <td>Active</td>\n",
       "      <td>Post_2</td>\n",
       "      <td>Right</td>\n",
       "      <td>0</td>\n",
       "      <td>2</td>\n",
       "    </tr>\n",
       "  </tbody>\n",
       "</table>\n",
       "<p>41816 rows × 9 columns</p>\n",
       "</div>"
      ],
      "text/plain": [
       "       Unnamed: 0 Subject manipulation           Manipulation Stimulation  \\\n",
       "0               0      S1           Bi                Control        Sham   \n",
       "1               1      S1           Bi                Control        Sham   \n",
       "2               2      S1           Bi                Control        Sham   \n",
       "3               3      S1           Bi                Control        Sham   \n",
       "4               4      S1           Bi                Control        Sham   \n",
       "...           ...     ...          ...                    ...         ...   \n",
       "41811         106     S65           UL  Attended Visual Field      Active   \n",
       "41812         107     S65           UL  Attended Visual Field      Active   \n",
       "41813         108     S65           UL  Attended Visual Field      Active   \n",
       "41814         109     S65           UL   Ignored Visual Field      Active   \n",
       "41815         110     S65           UL   Ignored Visual Field      Active   \n",
       "\n",
       "      Session VisualF  Response  Collection  \n",
       "0         Pre    Left         1           1  \n",
       "1         Pre    Left         1           1  \n",
       "2         Pre    Left         1           1  \n",
       "3         Pre    Left         1           1  \n",
       "4         Pre    Left         0           1  \n",
       "...       ...     ...       ...         ...  \n",
       "41811  Post_2    Left         1           2  \n",
       "41812  Post_2    Left         1           2  \n",
       "41813  Post_2    Left         1           2  \n",
       "41814  Post_2   Right         1           2  \n",
       "41815  Post_2   Right         0           2  \n",
       "\n",
       "[41816 rows x 9 columns]"
      ]
     },
     "execution_count": 4,
     "metadata": {},
     "output_type": "execute_result"
    }
   ],
   "source": [
    "df "
   ]
  },
  {
   "cell_type": "code",
   "execution_count": 47,
   "id": "d6fd12dd",
   "metadata": {},
   "outputs": [
    {
     "data": {
      "text/plain": [
       "109"
      ]
     },
     "execution_count": 47,
     "metadata": {},
     "output_type": "execute_result"
    }
   ],
   "source": [
    "len(df[(df[\"Session\"] == \"Pre\") & (df[\"Subject\"] == \"S6\") & (df[\"Stimulation\"] == \"Sham\")])"
   ]
  },
  {
   "cell_type": "code",
   "execution_count": 51,
   "id": "5106cdb4",
   "metadata": {},
   "outputs": [],
   "source": [
    "n_trial = []\n",
    "n_subj = []\n",
    "n_session = []\n",
    "n_stimulation = []\n",
    "for session in np.unique(df['Session']):\n",
    "    for subj in np.unique(df['Subject']):\n",
    "        for stim in np.unique(df['Stimulation']):\n",
    "            n_trial.append(len(df[(df['Session'] == session) & (df['Subject'] == subj) & (df[\"Stimulation\"] == stim)]))\n",
    "            n_subj.append(subj)\n",
    "            n_session.append(session)\n",
    "            n_stimulation.append(stim)\n",
    "        "
   ]
  },
  {
   "cell_type": "code",
   "execution_count": 54,
   "id": "f7f2545f",
   "metadata": {},
   "outputs": [
    {
     "data": {
      "text/plain": [
       "390"
      ]
     },
     "execution_count": 54,
     "metadata": {},
     "output_type": "execute_result"
    }
   ],
   "source": []
  },
  {
   "cell_type": "code",
   "execution_count": 55,
   "id": "c0a8264d",
   "metadata": {},
   "outputs": [],
   "source": [
    "trials = pd.DataFrame(list(zip(n_subj, n_session, n_stimulation, n_trial)),\n",
    "              columns=['Subject','Session', \"Stimulation\",'Trial'])"
   ]
  },
  {
   "cell_type": "code",
   "execution_count": 56,
   "id": "15c5c0dd",
   "metadata": {},
   "outputs": [
    {
     "data": {
      "text/html": [
       "<div>\n",
       "<style scoped>\n",
       "    .dataframe tbody tr th:only-of-type {\n",
       "        vertical-align: middle;\n",
       "    }\n",
       "\n",
       "    .dataframe tbody tr th {\n",
       "        vertical-align: top;\n",
       "    }\n",
       "\n",
       "    .dataframe thead th {\n",
       "        text-align: right;\n",
       "    }\n",
       "</style>\n",
       "<table border=\"1\" class=\"dataframe\">\n",
       "  <thead>\n",
       "    <tr style=\"text-align: right;\">\n",
       "      <th></th>\n",
       "      <th>Subject</th>\n",
       "      <th>Session</th>\n",
       "      <th>Stimulation</th>\n",
       "      <th>Trial</th>\n",
       "    </tr>\n",
       "  </thead>\n",
       "  <tbody>\n",
       "    <tr>\n",
       "      <th>14</th>\n",
       "      <td>S16</td>\n",
       "      <td>Post_1</td>\n",
       "      <td>Active</td>\n",
       "      <td>110</td>\n",
       "    </tr>\n",
       "    <tr>\n",
       "      <th>15</th>\n",
       "      <td>S16</td>\n",
       "      <td>Post_1</td>\n",
       "      <td>Sham</td>\n",
       "      <td>111</td>\n",
       "    </tr>\n",
       "    <tr>\n",
       "      <th>144</th>\n",
       "      <td>S16</td>\n",
       "      <td>Post_2</td>\n",
       "      <td>Active</td>\n",
       "      <td>112</td>\n",
       "    </tr>\n",
       "    <tr>\n",
       "      <th>145</th>\n",
       "      <td>S16</td>\n",
       "      <td>Post_2</td>\n",
       "      <td>Sham</td>\n",
       "      <td>112</td>\n",
       "    </tr>\n",
       "    <tr>\n",
       "      <th>274</th>\n",
       "      <td>S16</td>\n",
       "      <td>Pre</td>\n",
       "      <td>Active</td>\n",
       "      <td>106</td>\n",
       "    </tr>\n",
       "    <tr>\n",
       "      <th>275</th>\n",
       "      <td>S16</td>\n",
       "      <td>Pre</td>\n",
       "      <td>Sham</td>\n",
       "      <td>103</td>\n",
       "    </tr>\n",
       "  </tbody>\n",
       "</table>\n",
       "</div>"
      ],
      "text/plain": [
       "    Subject Session Stimulation  Trial\n",
       "14      S16  Post_1      Active    110\n",
       "15      S16  Post_1        Sham    111\n",
       "144     S16  Post_2      Active    112\n",
       "145     S16  Post_2        Sham    112\n",
       "274     S16     Pre      Active    106\n",
       "275     S16     Pre        Sham    103"
      ]
     },
     "execution_count": 56,
     "metadata": {},
     "output_type": "execute_result"
    }
   ],
   "source": [
    "trials[trials[\"Subject\"] == \"S16\"]"
   ]
  },
  {
   "cell_type": "code",
   "execution_count": 57,
   "id": "566a1af6",
   "metadata": {},
   "outputs": [
    {
     "data": {
      "text/plain": [
       "106.06153846153846"
      ]
     },
     "execution_count": 57,
     "metadata": {},
     "output_type": "execute_result"
    }
   ],
   "source": [
    "np.mean(trials[trials[\"Session\"] == \"Pre\"].Trial)"
   ]
  },
  {
   "cell_type": "code",
   "execution_count": 58,
   "id": "8b83092b",
   "metadata": {},
   "outputs": [
    {
     "data": {
      "text/plain": [
       "6.610892929509882"
      ]
     },
     "execution_count": 58,
     "metadata": {},
     "output_type": "execute_result"
    }
   ],
   "source": [
    "np.std(trials[trials[\"Session\"] == \"Pre\"].Trial)"
   ]
  },
  {
   "cell_type": "code",
   "execution_count": 59,
   "id": "0de23a3a",
   "metadata": {},
   "outputs": [
    {
     "data": {
      "text/plain": [
       "107.5"
      ]
     },
     "execution_count": 59,
     "metadata": {},
     "output_type": "execute_result"
    }
   ],
   "source": [
    "np.mean(trials[trials[\"Session\"] == \"Post_1\"].Trial)"
   ]
  },
  {
   "cell_type": "code",
   "execution_count": 60,
   "id": "a3fd331e",
   "metadata": {},
   "outputs": [
    {
     "data": {
      "text/plain": [
       "6.2366781098717805"
      ]
     },
     "execution_count": 60,
     "metadata": {},
     "output_type": "execute_result"
    }
   ],
   "source": [
    "np.std(trials[trials[\"Session\"] == \"Post_1\"].Trial)"
   ]
  },
  {
   "cell_type": "code",
   "execution_count": 63,
   "id": "710f0dc2",
   "metadata": {},
   "outputs": [],
   "source": [
    "path = r\"C:\\Users\\tosim\\Dropbox\\Progetto_PhD_IIT\\Analysis_new\\Data_analysis_2\\isolation_trials.xlsx\""
   ]
  },
  {
   "cell_type": "code",
   "execution_count": 64,
   "id": "bc530ed8",
   "metadata": {},
   "outputs": [],
   "source": [
    "df_trials = pd.read_excel(path)"
   ]
  },
  {
   "cell_type": "code",
   "execution_count": 66,
   "id": "c191cb9d",
   "metadata": {},
   "outputs": [
    {
     "data": {
      "text/plain": [
       "309.9076923076923"
      ]
     },
     "execution_count": 66,
     "metadata": {},
     "output_type": "execute_result"
    }
   ],
   "source": [
    "np.mean(df_trials.Trials)"
   ]
  },
  {
   "cell_type": "code",
   "execution_count": 67,
   "id": "c77da091",
   "metadata": {},
   "outputs": [
    {
     "data": {
      "text/plain": [
       "25.45930271383245"
      ]
     },
     "execution_count": 67,
     "metadata": {},
     "output_type": "execute_result"
    }
   ],
   "source": [
    "np.std(df_trials.Trials)"
   ]
  },
  {
   "cell_type": "code",
   "execution_count": null,
   "id": "5d889d76",
   "metadata": {},
   "outputs": [],
   "source": []
  }
 ],
 "metadata": {
  "kernelspec": {
   "display_name": "Python 3 (ipykernel)",
   "language": "python",
   "name": "python3"
  },
  "language_info": {
   "codemirror_mode": {
    "name": "ipython",
    "version": 3
   },
   "file_extension": ".py",
   "mimetype": "text/x-python",
   "name": "python",
   "nbconvert_exporter": "python",
   "pygments_lexer": "ipython3",
   "version": "3.12.7"
  }
 },
 "nbformat": 4,
 "nbformat_minor": 5
}
